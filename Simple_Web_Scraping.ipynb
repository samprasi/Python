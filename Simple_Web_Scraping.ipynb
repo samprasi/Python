{
  "nbformat": 4,
  "nbformat_minor": 0,
  "metadata": {
    "colab": {
      "provenance": []
    },
    "kernelspec": {
      "name": "python3",
      "display_name": "Python 3"
    },
    "language_info": {
      "name": "python"
    }
  },
  "cells": [
    {
      "cell_type": "code",
      "execution_count": null,
      "metadata": {
        "colab": {
          "base_uri": "https://localhost:8080/"
        },
        "id": "lm7-dyYvgOLO",
        "outputId": "352c0634-2754-4e81-ec68-31f056c3bb75"
      },
      "outputs": [
        {
          "output_type": "stream",
          "name": "stdout",
          "text": [
            "Collecting bs4\n",
            "  Downloading bs4-0.0.2-py2.py3-none-any.whl.metadata (411 bytes)\n",
            "Requirement already satisfied: beautifulsoup4 in /usr/local/lib/python3.10/dist-packages (from bs4) (4.12.3)\n",
            "Requirement already satisfied: soupsieve>1.2 in /usr/local/lib/python3.10/dist-packages (from beautifulsoup4->bs4) (2.6)\n",
            "Downloading bs4-0.0.2-py2.py3-none-any.whl (1.2 kB)\n",
            "Installing collected packages: bs4\n",
            "Successfully installed bs4-0.0.2\n"
          ]
        }
      ],
      "source": [
        "!pip install bs4\n"
      ]
    },
    {
      "cell_type": "code",
      "source": [
        "!pip install requests"
      ],
      "metadata": {
        "colab": {
          "base_uri": "https://localhost:8080/"
        },
        "id": "6bilFbUmgt6P",
        "outputId": "107691d4-214a-4436-e16a-643dbfcf00a7"
      },
      "execution_count": null,
      "outputs": [
        {
          "output_type": "stream",
          "name": "stdout",
          "text": [
            "Requirement already satisfied: requests in /usr/local/lib/python3.10/dist-packages (2.32.3)\n",
            "Requirement already satisfied: charset-normalizer<4,>=2 in /usr/local/lib/python3.10/dist-packages (from requests) (3.3.2)\n",
            "Requirement already satisfied: idna<4,>=2.5 in /usr/local/lib/python3.10/dist-packages (from requests) (3.8)\n",
            "Requirement already satisfied: urllib3<3,>=1.21.1 in /usr/local/lib/python3.10/dist-packages (from requests) (2.0.7)\n",
            "Requirement already satisfied: certifi>=2017.4.17 in /usr/local/lib/python3.10/dist-packages (from requests) (2024.7.4)\n"
          ]
        }
      ]
    },
    {
      "cell_type": "code",
      "source": [
        "import requests\n",
        "from bs4 import BeautifulSoup"
      ],
      "metadata": {
        "id": "Agjk4TX2g5yY"
      },
      "execution_count": null,
      "outputs": []
    },
    {
      "cell_type": "code",
      "source": [
        "url = 'https://realpython.github.io/fake-jobs/'\n",
        "html = requests.get(url)\n",
        "\n",
        "s = BeautifulSoup(html.content, 'html.parser')\n",
        "\n",
        "results = s.find(id='ResultsContainer')\n",
        "\n",
        "# Find all job titles\n",
        "job_titles = results.find_all('h2', class_='title is-5')\n",
        "for job in job_titles:\n",
        "    print(job.text)"
      ],
      "metadata": {
        "colab": {
          "base_uri": "https://localhost:8080/"
        },
        "id": "BbdBftFT9e12",
        "outputId": "fefc8db8-66b5-4fd9-cc6d-f7e9d7495350"
      },
      "execution_count": null,
      "outputs": [
        {
          "output_type": "stream",
          "name": "stdout",
          "text": [
            "Senior Python Developer\n",
            "Energy engineer\n",
            "Legal executive\n",
            "Fitness centre manager\n",
            "Product manager\n",
            "Medical technical officer\n",
            "Physiological scientist\n",
            "Textile designer\n",
            "Television floor manager\n",
            "Waste management officer\n",
            "Software Engineer (Python)\n",
            "Interpreter\n",
            "Architect\n",
            "Meteorologist\n",
            "Audiological scientist\n",
            "English as a second language teacher\n",
            "Surgeon\n",
            "Equities trader\n",
            "Newspaper journalist\n",
            "Materials engineer\n",
            "Python Programmer (Entry-Level)\n",
            "Product/process development scientist\n",
            "Scientist, research (maths)\n",
            "Ecologist\n",
            "Materials engineer\n",
            "Historic buildings inspector/conservation officer\n",
            "Data scientist\n",
            "Psychiatrist\n",
            "Structural engineer\n",
            "Immigration officer\n",
            "Python Programmer (Entry-Level)\n",
            "Neurosurgeon\n",
            "Broadcast engineer\n",
            "Make\n",
            "Nurse, adult\n",
            "Air broker\n",
            "Editor, film/video\n",
            "Production assistant, radio\n",
            "Engineer, communications\n",
            "Sales executive\n",
            "Software Developer (Python)\n",
            "Futures trader\n",
            "Tour manager\n",
            "Cytogeneticist\n",
            "Designer, multimedia\n",
            "Trade union research officer\n",
            "Chemist, analytical\n",
            "Programmer, multimedia\n",
            "Engineer, broadcasting (operations)\n",
            "Teacher, primary school\n",
            "Python Developer\n",
            "Manufacturing systems engineer\n",
            "Producer, television/film/video\n",
            "Scientist, forensic\n",
            "Bonds trader\n",
            "Editorial assistant\n",
            "Photographer\n",
            "Retail banker\n",
            "Jewellery designer\n",
            "Ophthalmologist\n",
            "Back-End Web Developer (Python, Django)\n",
            "Licensed conveyancer\n",
            "Futures trader\n",
            "Counselling psychologist\n",
            "Insurance underwriter\n",
            "Engineer, automotive\n",
            "Producer, radio\n",
            "Dispensing optician\n",
            "Designer, fashion/clothing\n",
            "Chartered loss adjuster\n",
            "Back-End Web Developer (Python, Django)\n",
            "Forest/woodland manager\n",
            "Clinical cytogeneticist\n",
            "Print production planner\n",
            "Systems developer\n",
            "Graphic designer\n",
            "Writer\n",
            "Field seismologist\n",
            "Chief Strategy Officer\n",
            "Air cabin crew\n",
            "Python Programmer (Entry-Level)\n",
            "Warden/ranger\n",
            "Sports therapist\n",
            "Arts development officer\n",
            "Printmaker\n",
            "Health and safety adviser\n",
            "Manufacturing systems engineer\n",
            "Programmer, applications\n",
            "Medical physicist\n",
            "Media planner\n",
            "Software Developer (Python)\n",
            "Surveyor, land/geomatics\n",
            "Legal executive\n",
            "Librarian, academic\n",
            "Barrister\n",
            "Museum/gallery exhibitions officer\n",
            "Radiographer, diagnostic\n",
            "Database administrator\n",
            "Furniture designer\n",
            "Ship broker\n"
          ]
        }
      ]
    }
  ]
}